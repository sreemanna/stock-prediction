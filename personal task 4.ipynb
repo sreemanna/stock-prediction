{
 "cells": [
  {
   "cell_type": "code",
   "execution_count": 2,
   "metadata": {},
   "outputs": [],
   "source": [
    "import requests\n",
    "from bs4 import BeautifulSoup as bs\n",
    "from urllib.request import urlopen as uReq\n",
    "import urllib.request\n",
    "import textwrap"
   ]
  },
  {
   "cell_type": "markdown",
   "metadata": {},
   "source": [
    "## Create Banner(Jpg,Png),Tag Line for topic(notepad),Topic description  file(notepad),keyword file(notepad),"
   ]
  },
  {
   "cell_type": "code",
   "execution_count": 3,
   "metadata": {},
   "outputs": [],
   "source": [
    "client = uReq(\"https://yoshops.com/products/boat-rockerz-530-foldable-bluetooth-headphone-with-mic-carbon-black\")\n",
    "read_data = client.read()\n",
    "soup = bs(read_data, \"html.parser\")\n",
    "product_name = soup.find(\"h1\", {\"class\": \"single-product-title\"})\n",
    "product_image = soup.find(\"img\", {\"class\": \"single-product-img\"})\n",
    "old_price = soup.find(\"span\", {\"id\": \"regular-price\"})\n",
    "new_price = soup.find(\"span\", {\"id\": \"sale-price\"})"
   ]
  },
  {
   "cell_type": "code",
   "execution_count": 4,
   "metadata": {},
   "outputs": [],
   "source": [
    "from PIL import Image, ImageDraw, ImageFont"
   ]
  },
  {
   "cell_type": "code",
   "execution_count": 5,
   "metadata": {},
   "outputs": [],
   "source": [
    "urllib.request.urlretrieve(product_image['src'], \"boat.jpg\")\n",
    "img = Image.open(\"boat.jpg\")\n",
    "\n",
    "new = Image.new('RGB', (800, 900), color=(255, 255, 255))"
   ]
  },
  {
   "cell_type": "code",
   "execution_count": 6,
   "metadata": {},
   "outputs": [],
   "source": [
    "d = ImageDraw.Draw(new)\n",
    "new.paste(img, (175, 50))\n",
    "font = ImageFont.truetype(\"arial.ttf\", 22)\n",
    "font1 = ImageFont.truetype(\"arial.ttf\", 15)"
   ]
  },
  {
   "cell_type": "code",
   "execution_count": 7,
   "metadata": {},
   "outputs": [],
   "source": [
    "astr = product_name.text\n",
    "para = textwrap.wrap(astr, width=70)\n",
    "current_h, pad = 600, 10\n",
    "for line in para:\n",
    "    w, h = d.textsize(line, font=font)\n",
    "    d.text(((800 - w) / 2, current_h), line, fill=\"black\", font=font)\n",
    "    current_h += h + pad\n"
   ]
  },
  {
   "cell_type": "code",
   "execution_count": 8,
   "metadata": {},
   "outputs": [],
   "source": [
    "d.text((330, 700), 'Old Price:-  ' + old_price.text, font=font1, fill='black')\n",
    "d.text((330, 750), 'New Price:-  ' + new_price.text, font=font1, fill='black')\n",
    "new.show()"
   ]
  },
  {
   "cell_type": "code",
   "execution_count": null,
   "metadata": {},
   "outputs": [],
   "source": []
  },
  {
   "cell_type": "markdown",
   "metadata": {},
   "source": [
    "##  Create 200sec 🎥   shorts videos(MP4) on Data Science Basic Training Program for Everyone\n"
   ]
  },
  {
   "cell_type": "code",
   "execution_count": 8,
   "metadata": {},
   "outputs": [
    {
     "name": "stdout",
     "output_type": "stream",
     "text": [
      "Requirement already satisfied: moviepy in c:\\users\\sreem\\anaconda3\\lib\\site-packages (1.0.3)Note: you may need to restart the kernel to use updated packages.\n",
      "Requirement already satisfied: decorator<5.0,>=4.0.2 in c:\\users\\sreem\\anaconda3\\lib\\site-packages (from moviepy) (4.4.2)\n",
      "Requirement already satisfied: proglog<=1.0.0 in c:\\users\\sreem\\anaconda3\\lib\\site-packages (from moviepy) (0.1.10)\n",
      "Requirement already satisfied: numpy; python_version >= \"2.7\" in c:\\users\\sreem\\anaconda3\\lib\\site-packages (from moviepy) (1.23.3)\n",
      "Requirement already satisfied: requests<3.0,>=2.8.1 in c:\\users\\sreem\\anaconda3\\lib\\site-packages (from moviepy) (2.24.0)\n",
      "Requirement already satisfied: imageio<3.0,>=2.5; python_version >= \"3.4\" in c:\\users\\sreem\\anaconda3\\lib\\site-packages (from moviepy) (2.9.0)\n",
      "\n",
      "Requirement already satisfied: imageio-ffmpeg>=0.2.0; python_version >= \"3.4\" in c:\\users\\sreem\\anaconda3\\lib\\site-packages (from moviepy) (0.4.7)\n",
      "Requirement already satisfied: tqdm<5.0,>=4.11.2 in c:\\users\\sreem\\anaconda3\\lib\\site-packages (from moviepy) (4.50.2)\n",
      "Requirement already satisfied: idna<3,>=2.5 in c:\\users\\sreem\\anaconda3\\lib\\site-packages (from requests<3.0,>=2.8.1->moviepy) (2.10)\n",
      "Requirement already satisfied: chardet<4,>=3.0.2 in c:\\users\\sreem\\anaconda3\\lib\\site-packages (from requests<3.0,>=2.8.1->moviepy) (3.0.4)\n",
      "Requirement already satisfied: certifi>=2017.4.17 in c:\\users\\sreem\\anaconda3\\lib\\site-packages (from requests<3.0,>=2.8.1->moviepy) (2022.9.24)\n",
      "Requirement already satisfied: urllib3!=1.25.0,!=1.25.1,<1.26,>=1.21.1 in c:\\users\\sreem\\anaconda3\\lib\\site-packages (from requests<3.0,>=2.8.1->moviepy) (1.25.11)\n",
      "Requirement already satisfied: pillow in c:\\users\\sreem\\anaconda3\\lib\\site-packages (from imageio<3.0,>=2.5; python_version >= \"3.4\"->moviepy) (8.0.1)\n"
     ]
    }
   ],
   "source": [
    "pip install moviepy"
   ]
  },
  {
   "cell_type": "code",
   "execution_count": 9,
   "metadata": {},
   "outputs": [
    {
     "name": "stdout",
     "output_type": "stream",
     "text": [
      "Requirement already satisfied: aspose-words in c:\\users\\sreem\\anaconda3\\lib\\site-packages (22.9.0)\n",
      "Note: you may need to restart the kernel to use updated packages.\n"
     ]
    }
   ],
   "source": [
    "pip install aspose-words"
   ]
  },
  {
   "cell_type": "code",
   "execution_count": 10,
   "metadata": {},
   "outputs": [],
   "source": [
    "from moviepy.editor import ImageClip,concatenate_videoclips\n",
    "import moviepy.editor as mymovie\n",
    "import os\n",
    "import aspose.words as aw"
   ]
  },
  {
   "cell_type": "code",
   "execution_count": 11,
   "metadata": {},
   "outputs": [],
   "source": [
    "def vedio_with_audio():\n",
    "    img_clips = []\n",
    "    path_list = []\n",
    "    for image in os.listdir(path):\n",
    "        if image.endswith(\".jpg\"):\n",
    "            path_list.append(os.path.join(path,image))\n",
    "    for img_path in path_list:\n",
    "        slide = ImageClip(img_path, duration = 2)\n",
    "        img_clips.append(slide)\n",
    "        video_slides = concatenate_videoclips(img_clips, method = 'compose')\n",
    "        audio_add = mymovie.AudioFileClip(audio)\n",
    "        final_clip = video_slides.set_audio(audio_add)\n",
    "        final_clip.write_videofile(output+\".mp4\", fps = 100)\n",
    "        print('vedio succesfully created')"
   ]
  },
  {
   "cell_type": "code",
   "execution_count": null,
   "metadata": {},
   "outputs": [
    {
     "name": "stdout",
     "output_type": "stream",
     "text": [
      "press 2 for Create 200sec 🎥   shorts videos(MP4) on Data Science Basic Training Program for Everyone\n"
     ]
    }
   ],
   "source": [
    "print(\"press 2 for Create 200sec 🎥   shorts videos(MP4) on Data Science Basic Training Program for Everyone\")\n",
    "intp = int(input())\n",
    "if intp == 2:\n",
    "    path = input(\"enter path of images\")\n",
    "    audio = input(\"enter name of audio with .mp3\")\n",
    "    output = input(\"enter vedio name\")\n",
    "    vedio_with_audio(path, audio, output)"
   ]
  },
  {
   "cell_type": "markdown",
   "metadata": {},
   "source": [
    "## Write a blog on Data Science Basic Training Program for Everyone."
   ]
  },
  {
   "cell_type": "code",
   "execution_count": 14,
   "metadata": {},
   "outputs": [],
   "source": [
    "client = uReq(\"https://yoshops.com/products/data-science-internship-training-program\")\n",
    "read_data = client.read()\n",
    "soup = bs(read_data, \"html.parser\")\n",
    "event_name = soup.find(\"h1\", {\"class\": \"single-product-title\"})\n",
    "event_image = soup.find(\"img\", {\"class\": \"single-product-img\"})\n",
    "product_detail = soup.find(\"div\", {\"class\": \"col-sm-5\"})\n",
    "description = product_detail.div.div.div[\"data-description\"]\n",
    "doc = aw.Document()"
   ]
  },
  {
   "cell_type": "code",
   "execution_count": 15,
   "metadata": {},
   "outputs": [
    {
     "data": {
      "text/plain": [
       "<aspose.words.saving.SaveOutputParameters object at 0x000001DF30416690>"
      ]
     },
     "execution_count": 15,
     "metadata": {},
     "output_type": "execute_result"
    }
   ],
   "source": [
    "builder = aw.DocumentBuilder(doc)\n",
    "font = builder.font\n",
    "font.bold = True\n",
    "font.size = 18\n",
    "paragraphFormat = builder.paragraph_format\n",
    "paragraphFormat.first_line_indent = 80\n",
    "builder.writeln(event_name.text)\n",
    "urllib.request.urlretrieve(event_image['src'], \"ds.jpg\")\n",
    "builder.insert_image('ds.jpg')\n",
    "font = builder.font\n",
    "font.size = 12\n",
    "font.bold = False\n",
    "font.name = \"Arial\"\n",
    "paragraphFormat = builder.paragraph_format\n",
    "paragraphFormat.first_line_indent = 12\n",
    "builder.writeln(description)\n",
    "doc.save(\"DS blog.docx\")"
   ]
  }
 ],
 "metadata": {
  "kernelspec": {
   "display_name": "Python 3",
   "language": "python",
   "name": "python3"
  },
  "language_info": {
   "codemirror_mode": {
    "name": "ipython",
    "version": 3
   },
   "file_extension": ".py",
   "mimetype": "text/x-python",
   "name": "python",
   "nbconvert_exporter": "python",
   "pygments_lexer": "ipython3",
   "version": "3.8.5"
  }
 },
 "nbformat": 4,
 "nbformat_minor": 4
}
