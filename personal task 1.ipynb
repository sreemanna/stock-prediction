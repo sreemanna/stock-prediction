{
 "cells": [
  {
   "cell_type": "code",
   "execution_count": 1,
   "metadata": {},
   "outputs": [],
   "source": [
    "import xlsxwriter"
   ]
  },
  {
   "cell_type": "markdown",
   "metadata": {},
   "source": [
    "## 2 Python program for import data from an excel file\n"
   ]
  },
  {
   "cell_type": "code",
   "execution_count": 2,
   "metadata": {},
   "outputs": [],
   "source": [
    "import pandas as pd\n",
    "import numpy as np\n",
    "import seaborn as sn\n",
    "import openpyxl as op\n"
   ]
  },
  {
   "cell_type": "code",
   "execution_count": 3,
   "metadata": {},
   "outputs": [],
   "source": [
    "df=pd.read_excel('train_titanic.xlsx')"
   ]
  },
  {
   "cell_type": "code",
   "execution_count": 4,
   "metadata": {},
   "outputs": [
    {
     "data": {
      "text/html": [
       "<div>\n",
       "<style scoped>\n",
       "    .dataframe tbody tr th:only-of-type {\n",
       "        vertical-align: middle;\n",
       "    }\n",
       "\n",
       "    .dataframe tbody tr th {\n",
       "        vertical-align: top;\n",
       "    }\n",
       "\n",
       "    .dataframe thead th {\n",
       "        text-align: right;\n",
       "    }\n",
       "</style>\n",
       "<table border=\"1\" class=\"dataframe\">\n",
       "  <thead>\n",
       "    <tr style=\"text-align: right;\">\n",
       "      <th></th>\n",
       "      <th>PassengerId</th>\n",
       "      <th>Survived</th>\n",
       "      <th>Pclass</th>\n",
       "      <th>Name</th>\n",
       "      <th>Sex</th>\n",
       "      <th>Age</th>\n",
       "      <th>SibSp</th>\n",
       "      <th>Parch</th>\n",
       "      <th>Ticket</th>\n",
       "      <th>Fare</th>\n",
       "      <th>Cabin</th>\n",
       "      <th>Embarked</th>\n",
       "    </tr>\n",
       "  </thead>\n",
       "  <tbody>\n",
       "    <tr>\n",
       "      <th>0</th>\n",
       "      <td>1</td>\n",
       "      <td>0</td>\n",
       "      <td>3</td>\n",
       "      <td>Braund, Mr. Owen Harris</td>\n",
       "      <td>male</td>\n",
       "      <td>22.0</td>\n",
       "      <td>1</td>\n",
       "      <td>0</td>\n",
       "      <td>A/5 21171</td>\n",
       "      <td>7.2500</td>\n",
       "      <td>NaN</td>\n",
       "      <td>S</td>\n",
       "    </tr>\n",
       "    <tr>\n",
       "      <th>1</th>\n",
       "      <td>2</td>\n",
       "      <td>1</td>\n",
       "      <td>1</td>\n",
       "      <td>Cumings, Mrs. John Bradley (Florence Briggs Th...</td>\n",
       "      <td>female</td>\n",
       "      <td>38.0</td>\n",
       "      <td>1</td>\n",
       "      <td>0</td>\n",
       "      <td>PC 17599</td>\n",
       "      <td>71.2833</td>\n",
       "      <td>C85</td>\n",
       "      <td>C</td>\n",
       "    </tr>\n",
       "    <tr>\n",
       "      <th>2</th>\n",
       "      <td>3</td>\n",
       "      <td>1</td>\n",
       "      <td>3</td>\n",
       "      <td>Heikkinen, Miss. Laina</td>\n",
       "      <td>female</td>\n",
       "      <td>26.0</td>\n",
       "      <td>0</td>\n",
       "      <td>0</td>\n",
       "      <td>STON/O2. 3101282</td>\n",
       "      <td>7.9250</td>\n",
       "      <td>NaN</td>\n",
       "      <td>S</td>\n",
       "    </tr>\n",
       "    <tr>\n",
       "      <th>3</th>\n",
       "      <td>4</td>\n",
       "      <td>1</td>\n",
       "      <td>1</td>\n",
       "      <td>Futrelle, Mrs. Jacques Heath (Lily May Peel)</td>\n",
       "      <td>female</td>\n",
       "      <td>35.0</td>\n",
       "      <td>1</td>\n",
       "      <td>0</td>\n",
       "      <td>113803</td>\n",
       "      <td>53.1000</td>\n",
       "      <td>C123</td>\n",
       "      <td>S</td>\n",
       "    </tr>\n",
       "    <tr>\n",
       "      <th>4</th>\n",
       "      <td>5</td>\n",
       "      <td>0</td>\n",
       "      <td>3</td>\n",
       "      <td>Allen, Mr. William Henry</td>\n",
       "      <td>male</td>\n",
       "      <td>35.0</td>\n",
       "      <td>0</td>\n",
       "      <td>0</td>\n",
       "      <td>373450</td>\n",
       "      <td>8.0500</td>\n",
       "      <td>NaN</td>\n",
       "      <td>S</td>\n",
       "    </tr>\n",
       "  </tbody>\n",
       "</table>\n",
       "</div>"
      ],
      "text/plain": [
       "   PassengerId  Survived  Pclass  \\\n",
       "0            1         0       3   \n",
       "1            2         1       1   \n",
       "2            3         1       3   \n",
       "3            4         1       1   \n",
       "4            5         0       3   \n",
       "\n",
       "                                                Name     Sex   Age  SibSp  \\\n",
       "0                            Braund, Mr. Owen Harris    male  22.0      1   \n",
       "1  Cumings, Mrs. John Bradley (Florence Briggs Th...  female  38.0      1   \n",
       "2                             Heikkinen, Miss. Laina  female  26.0      0   \n",
       "3       Futrelle, Mrs. Jacques Heath (Lily May Peel)  female  35.0      1   \n",
       "4                           Allen, Mr. William Henry    male  35.0      0   \n",
       "\n",
       "   Parch            Ticket     Fare Cabin Embarked  \n",
       "0      0         A/5 21171   7.2500   NaN        S  \n",
       "1      0          PC 17599  71.2833   C85        C  \n",
       "2      0  STON/O2. 3101282   7.9250   NaN        S  \n",
       "3      0            113803  53.1000  C123        S  \n",
       "4      0            373450   8.0500   NaN        S  "
      ]
     },
     "execution_count": 4,
     "metadata": {},
     "output_type": "execute_result"
    }
   ],
   "source": [
    "  df.head()"
   ]
  },
  {
   "cell_type": "code",
   "execution_count": 5,
   "metadata": {},
   "outputs": [
    {
     "name": "stdout",
     "output_type": "stream",
     "text": [
      "<class 'pandas.core.frame.DataFrame'>\n",
      "RangeIndex: 891 entries, 0 to 890\n",
      "Data columns (total 12 columns):\n",
      " #   Column       Non-Null Count  Dtype  \n",
      "---  ------       --------------  -----  \n",
      " 0   PassengerId  891 non-null    int64  \n",
      " 1   Survived     891 non-null    int64  \n",
      " 2   Pclass       891 non-null    int64  \n",
      " 3   Name         891 non-null    object \n",
      " 4   Sex          891 non-null    object \n",
      " 5   Age          714 non-null    float64\n",
      " 6   SibSp        891 non-null    int64  \n",
      " 7   Parch        891 non-null    int64  \n",
      " 8   Ticket       891 non-null    object \n",
      " 9   Fare         891 non-null    float64\n",
      " 10  Cabin        204 non-null    object \n",
      " 11  Embarked     889 non-null    object \n",
      "dtypes: float64(2), int64(5), object(5)\n",
      "memory usage: 83.7+ KB\n"
     ]
    }
   ],
   "source": [
    "df.info()"
   ]
  },
  {
   "cell_type": "code",
   "execution_count": 6,
   "metadata": {},
   "outputs": [
    {
     "data": {
      "text/html": [
       "<div>\n",
       "<style scoped>\n",
       "    .dataframe tbody tr th:only-of-type {\n",
       "        vertical-align: middle;\n",
       "    }\n",
       "\n",
       "    .dataframe tbody tr th {\n",
       "        vertical-align: top;\n",
       "    }\n",
       "\n",
       "    .dataframe thead th {\n",
       "        text-align: right;\n",
       "    }\n",
       "</style>\n",
       "<table border=\"1\" class=\"dataframe\">\n",
       "  <thead>\n",
       "    <tr style=\"text-align: right;\">\n",
       "      <th></th>\n",
       "      <th>PassengerId</th>\n",
       "      <th>Survived</th>\n",
       "      <th>Pclass</th>\n",
       "      <th>Age</th>\n",
       "      <th>SibSp</th>\n",
       "      <th>Parch</th>\n",
       "      <th>Fare</th>\n",
       "    </tr>\n",
       "  </thead>\n",
       "  <tbody>\n",
       "    <tr>\n",
       "      <th>count</th>\n",
       "      <td>891.000000</td>\n",
       "      <td>891.000000</td>\n",
       "      <td>891.000000</td>\n",
       "      <td>714.000000</td>\n",
       "      <td>891.000000</td>\n",
       "      <td>891.000000</td>\n",
       "      <td>891.000000</td>\n",
       "    </tr>\n",
       "    <tr>\n",
       "      <th>mean</th>\n",
       "      <td>446.000000</td>\n",
       "      <td>0.383838</td>\n",
       "      <td>2.308642</td>\n",
       "      <td>29.699118</td>\n",
       "      <td>0.523008</td>\n",
       "      <td>0.381594</td>\n",
       "      <td>32.204208</td>\n",
       "    </tr>\n",
       "    <tr>\n",
       "      <th>std</th>\n",
       "      <td>257.353842</td>\n",
       "      <td>0.486592</td>\n",
       "      <td>0.836071</td>\n",
       "      <td>14.526497</td>\n",
       "      <td>1.102743</td>\n",
       "      <td>0.806057</td>\n",
       "      <td>49.693429</td>\n",
       "    </tr>\n",
       "    <tr>\n",
       "      <th>min</th>\n",
       "      <td>1.000000</td>\n",
       "      <td>0.000000</td>\n",
       "      <td>1.000000</td>\n",
       "      <td>0.420000</td>\n",
       "      <td>0.000000</td>\n",
       "      <td>0.000000</td>\n",
       "      <td>0.000000</td>\n",
       "    </tr>\n",
       "    <tr>\n",
       "      <th>25%</th>\n",
       "      <td>223.500000</td>\n",
       "      <td>0.000000</td>\n",
       "      <td>2.000000</td>\n",
       "      <td>20.125000</td>\n",
       "      <td>0.000000</td>\n",
       "      <td>0.000000</td>\n",
       "      <td>7.910400</td>\n",
       "    </tr>\n",
       "    <tr>\n",
       "      <th>50%</th>\n",
       "      <td>446.000000</td>\n",
       "      <td>0.000000</td>\n",
       "      <td>3.000000</td>\n",
       "      <td>28.000000</td>\n",
       "      <td>0.000000</td>\n",
       "      <td>0.000000</td>\n",
       "      <td>14.454200</td>\n",
       "    </tr>\n",
       "    <tr>\n",
       "      <th>75%</th>\n",
       "      <td>668.500000</td>\n",
       "      <td>1.000000</td>\n",
       "      <td>3.000000</td>\n",
       "      <td>38.000000</td>\n",
       "      <td>1.000000</td>\n",
       "      <td>0.000000</td>\n",
       "      <td>31.000000</td>\n",
       "    </tr>\n",
       "    <tr>\n",
       "      <th>max</th>\n",
       "      <td>891.000000</td>\n",
       "      <td>1.000000</td>\n",
       "      <td>3.000000</td>\n",
       "      <td>80.000000</td>\n",
       "      <td>8.000000</td>\n",
       "      <td>6.000000</td>\n",
       "      <td>512.329200</td>\n",
       "    </tr>\n",
       "  </tbody>\n",
       "</table>\n",
       "</div>"
      ],
      "text/plain": [
       "       PassengerId    Survived      Pclass         Age       SibSp  \\\n",
       "count   891.000000  891.000000  891.000000  714.000000  891.000000   \n",
       "mean    446.000000    0.383838    2.308642   29.699118    0.523008   \n",
       "std     257.353842    0.486592    0.836071   14.526497    1.102743   \n",
       "min       1.000000    0.000000    1.000000    0.420000    0.000000   \n",
       "25%     223.500000    0.000000    2.000000   20.125000    0.000000   \n",
       "50%     446.000000    0.000000    3.000000   28.000000    0.000000   \n",
       "75%     668.500000    1.000000    3.000000   38.000000    1.000000   \n",
       "max     891.000000    1.000000    3.000000   80.000000    8.000000   \n",
       "\n",
       "            Parch        Fare  \n",
       "count  891.000000  891.000000  \n",
       "mean     0.381594   32.204208  \n",
       "std      0.806057   49.693429  \n",
       "min      0.000000    0.000000  \n",
       "25%      0.000000    7.910400  \n",
       "50%      0.000000   14.454200  \n",
       "75%      0.000000   31.000000  \n",
       "max      6.000000  512.329200  "
      ]
     },
     "execution_count": 6,
     "metadata": {},
     "output_type": "execute_result"
    }
   ],
   "source": [
    "df.describe()"
   ]
  },
  {
   "cell_type": "code",
   "execution_count": 7,
   "metadata": {},
   "outputs": [
    {
     "data": {
      "text/plain": [
       "PassengerId      0\n",
       "Survived         0\n",
       "Pclass           0\n",
       "Name             0\n",
       "Sex              0\n",
       "Age            177\n",
       "SibSp            0\n",
       "Parch            0\n",
       "Ticket           0\n",
       "Fare             0\n",
       "Cabin          687\n",
       "Embarked         2\n",
       "dtype: int64"
      ]
     },
     "execution_count": 7,
     "metadata": {},
     "output_type": "execute_result"
    }
   ],
   "source": [
    "df.isnull().sum()"
   ]
  },
  {
   "cell_type": "code",
   "execution_count": null,
   "metadata": {},
   "outputs": [],
   "source": []
  },
  {
   "cell_type": "markdown",
   "metadata": {},
   "source": [
    "## 3 Python program for Format data in excel sheet "
   ]
  },
  {
   "cell_type": "code",
   "execution_count": 8,
   "metadata": {},
   "outputs": [],
   "source": [
    "file=op.load_workbook('train_titanic.xlsx')"
   ]
  },
  {
   "cell_type": "code",
   "execution_count": 9,
   "metadata": {},
   "outputs": [],
   "source": [
    "import os"
   ]
  },
  {
   "cell_type": "code",
   "execution_count": 10,
   "metadata": {},
   "outputs": [],
   "source": [
    "sheet=file.sheetnames\n",
    "sheet1=file[sheet[0]]\n",
    "rows=sheet1.max_row"
   ]
  },
  {
   "cell_type": "code",
   "execution_count": 11,
   "metadata": {},
   "outputs": [],
   "source": [
    "for i in range (2,rows+2):\n",
    "    cell = \"K\"+f\"{i}\"\n",
    "    Fare = sheet1[cell].value\n",
    "    list_Fare = Fare\n",
    "    sheet1[cell].value = list_Fare\n",
    "for i in range(2,rows+2):\n",
    "    cell = \"D\"+f\"{i}\"\n",
    "    Pclass = sheet1[cell].value\n",
    "    list_Pclass = Pclass\n",
    "    sheet1[cell].value = list_Pclass\n",
    "file.save(\"train_titanic.xlsx\")\n",
    "\n"
   ]
  },
  {
   "cell_type": "code",
   "execution_count": null,
   "metadata": {},
   "outputs": [],
   "source": []
  },
  {
   "cell_type": "markdown",
   "metadata": {},
   "source": [
    "## 4. Python program for Prepare excel charts pie Chart and Bar Chart \n"
   ]
  },
  {
   "cell_type": "code",
   "execution_count": 12,
   "metadata": {},
   "outputs": [],
   "source": [
    "import matplotlib.pyplot as plt"
   ]
  },
  {
   "cell_type": "code",
   "execution_count": 13,
   "metadata": {},
   "outputs": [
    {
     "data": {
      "text/plain": [
       "array([[-0.56794596, -0.70565567,  0.80400586,  2.11761971],\n",
       "       [-0.24789825, -0.52479703,  1.75032447, -0.21407294],\n",
       "       [ 0.66073073,  1.09233628,  0.6950669 ,  0.88128694],\n",
       "       [-0.91563029,  0.02290266, -0.77983172,  0.29993059],\n",
       "       [-0.45904298, -1.27725999,  1.03846623, -0.92907323],\n",
       "       [-0.15244474, -0.32878   , -2.56108371,  0.77795475],\n",
       "       [-0.06607995,  0.0357684 , -0.37964756, -0.59399092],\n",
       "       [ 0.20643967, -0.78370805,  0.02882837,  0.48818449],\n",
       "       [-0.76344349, -1.16533901,  2.69561795, -1.9017997 ],\n",
       "       [-0.43242551,  1.09780682,  0.82631822, -0.59840562]])"
      ]
     },
     "execution_count": 13,
     "metadata": {},
     "output_type": "execute_result"
    }
   ],
   "source": [
    "np.random.randn(10,4)"
   ]
  },
  {
   "cell_type": "code",
   "execution_count": 14,
   "metadata": {},
   "outputs": [
    {
     "data": {
      "text/html": [
       "<div>\n",
       "<style scoped>\n",
       "    .dataframe tbody tr th:only-of-type {\n",
       "        vertical-align: middle;\n",
       "    }\n",
       "\n",
       "    .dataframe tbody tr th {\n",
       "        vertical-align: top;\n",
       "    }\n",
       "\n",
       "    .dataframe thead th {\n",
       "        text-align: right;\n",
       "    }\n",
       "</style>\n",
       "<table border=\"1\" class=\"dataframe\">\n",
       "  <thead>\n",
       "    <tr style=\"text-align: right;\">\n",
       "      <th></th>\n",
       "      <th>A</th>\n",
       "      <th>B</th>\n",
       "      <th>C</th>\n",
       "      <th>D</th>\n",
       "    </tr>\n",
       "  </thead>\n",
       "  <tbody>\n",
       "    <tr>\n",
       "      <th>2022-01-01</th>\n",
       "      <td>-0.727059</td>\n",
       "      <td>-1.896780</td>\n",
       "      <td>1.057118</td>\n",
       "      <td>0.171285</td>\n",
       "    </tr>\n",
       "    <tr>\n",
       "      <th>2022-01-02</th>\n",
       "      <td>-0.210583</td>\n",
       "      <td>0.515644</td>\n",
       "      <td>-1.240762</td>\n",
       "      <td>-0.103263</td>\n",
       "    </tr>\n",
       "    <tr>\n",
       "      <th>2022-01-03</th>\n",
       "      <td>-1.976465</td>\n",
       "      <td>-0.168071</td>\n",
       "      <td>0.214207</td>\n",
       "      <td>0.228799</td>\n",
       "    </tr>\n",
       "    <tr>\n",
       "      <th>2022-01-04</th>\n",
       "      <td>-0.266190</td>\n",
       "      <td>-1.094501</td>\n",
       "      <td>2.339044</td>\n",
       "      <td>-0.100991</td>\n",
       "    </tr>\n",
       "    <tr>\n",
       "      <th>2022-01-05</th>\n",
       "      <td>1.006041</td>\n",
       "      <td>-0.456605</td>\n",
       "      <td>1.684623</td>\n",
       "      <td>0.451174</td>\n",
       "    </tr>\n",
       "    <tr>\n",
       "      <th>2022-01-06</th>\n",
       "      <td>-1.243674</td>\n",
       "      <td>0.583322</td>\n",
       "      <td>0.210022</td>\n",
       "      <td>-0.412519</td>\n",
       "    </tr>\n",
       "    <tr>\n",
       "      <th>2022-01-07</th>\n",
       "      <td>-0.125898</td>\n",
       "      <td>1.040740</td>\n",
       "      <td>0.263757</td>\n",
       "      <td>-1.569917</td>\n",
       "    </tr>\n",
       "    <tr>\n",
       "      <th>2022-01-08</th>\n",
       "      <td>0.298248</td>\n",
       "      <td>0.648579</td>\n",
       "      <td>1.260963</td>\n",
       "      <td>-1.965782</td>\n",
       "    </tr>\n",
       "    <tr>\n",
       "      <th>2022-01-09</th>\n",
       "      <td>0.578025</td>\n",
       "      <td>-0.321810</td>\n",
       "      <td>-0.848114</td>\n",
       "      <td>0.615280</td>\n",
       "    </tr>\n",
       "    <tr>\n",
       "      <th>2022-01-10</th>\n",
       "      <td>-0.683006</td>\n",
       "      <td>-1.608338</td>\n",
       "      <td>0.737624</td>\n",
       "      <td>-1.823818</td>\n",
       "    </tr>\n",
       "  </tbody>\n",
       "</table>\n",
       "</div>"
      ],
      "text/plain": [
       "                   A         B         C         D\n",
       "2022-01-01 -0.727059 -1.896780  1.057118  0.171285\n",
       "2022-01-02 -0.210583  0.515644 -1.240762 -0.103263\n",
       "2022-01-03 -1.976465 -0.168071  0.214207  0.228799\n",
       "2022-01-04 -0.266190 -1.094501  2.339044 -0.100991\n",
       "2022-01-05  1.006041 -0.456605  1.684623  0.451174\n",
       "2022-01-06 -1.243674  0.583322  0.210022 -0.412519\n",
       "2022-01-07 -0.125898  1.040740  0.263757 -1.569917\n",
       "2022-01-08  0.298248  0.648579  1.260963 -1.965782\n",
       "2022-01-09  0.578025 -0.321810 -0.848114  0.615280\n",
       "2022-01-10 -0.683006 -1.608338  0.737624 -1.823818"
      ]
     },
     "execution_count": 14,
     "metadata": {},
     "output_type": "execute_result"
    }
   ],
   "source": [
    "df = pd.DataFrame(np.random.randn(10,4), index = pd.date_range(\"1/1/2022\",periods=10),columns=list(\"ABCD\"))\n",
    "df"
   ]
  },
  {
   "cell_type": "code",
   "execution_count": 15,
   "metadata": {},
   "outputs": [
    {
     "data": {
      "text/html": [
       "<div>\n",
       "<style scoped>\n",
       "    .dataframe tbody tr th:only-of-type {\n",
       "        vertical-align: middle;\n",
       "    }\n",
       "\n",
       "    .dataframe tbody tr th {\n",
       "        vertical-align: top;\n",
       "    }\n",
       "\n",
       "    .dataframe thead th {\n",
       "        text-align: right;\n",
       "    }\n",
       "</style>\n",
       "<table border=\"1\" class=\"dataframe\">\n",
       "  <thead>\n",
       "    <tr style=\"text-align: right;\">\n",
       "      <th></th>\n",
       "      <th>a</th>\n",
       "      <th>b</th>\n",
       "      <th>c</th>\n",
       "      <th>d</th>\n",
       "    </tr>\n",
       "  </thead>\n",
       "  <tbody>\n",
       "    <tr>\n",
       "      <th>2022-01-01</th>\n",
       "      <td>0.115821</td>\n",
       "      <td>0.900743</td>\n",
       "      <td>0.995530</td>\n",
       "      <td>-0.281706</td>\n",
       "    </tr>\n",
       "    <tr>\n",
       "      <th>2022-01-02</th>\n",
       "      <td>0.579573</td>\n",
       "      <td>-0.939810</td>\n",
       "      <td>-1.079102</td>\n",
       "      <td>0.380849</td>\n",
       "    </tr>\n",
       "    <tr>\n",
       "      <th>2022-01-03</th>\n",
       "      <td>-0.843424</td>\n",
       "      <td>-0.091311</td>\n",
       "      <td>1.019580</td>\n",
       "      <td>0.511926</td>\n",
       "    </tr>\n",
       "    <tr>\n",
       "      <th>2022-01-04</th>\n",
       "      <td>-0.088041</td>\n",
       "      <td>-0.362877</td>\n",
       "      <td>-0.077490</td>\n",
       "      <td>-0.814624</td>\n",
       "    </tr>\n",
       "    <tr>\n",
       "      <th>2022-01-05</th>\n",
       "      <td>-0.121965</td>\n",
       "      <td>-2.051599</td>\n",
       "      <td>-2.058126</td>\n",
       "      <td>-0.834124</td>\n",
       "    </tr>\n",
       "    <tr>\n",
       "      <th>2022-01-06</th>\n",
       "      <td>-0.711145</td>\n",
       "      <td>0.000668</td>\n",
       "      <td>0.647405</td>\n",
       "      <td>0.531634</td>\n",
       "    </tr>\n",
       "    <tr>\n",
       "      <th>2022-01-07</th>\n",
       "      <td>0.716711</td>\n",
       "      <td>1.281662</td>\n",
       "      <td>-1.089599</td>\n",
       "      <td>0.379378</td>\n",
       "    </tr>\n",
       "    <tr>\n",
       "      <th>2022-01-08</th>\n",
       "      <td>-0.097655</td>\n",
       "      <td>0.652743</td>\n",
       "      <td>-0.649956</td>\n",
       "      <td>0.421805</td>\n",
       "    </tr>\n",
       "    <tr>\n",
       "      <th>2022-01-09</th>\n",
       "      <td>-0.367243</td>\n",
       "      <td>-0.989377</td>\n",
       "      <td>0.332177</td>\n",
       "      <td>0.237011</td>\n",
       "    </tr>\n",
       "    <tr>\n",
       "      <th>2022-01-10</th>\n",
       "      <td>0.425679</td>\n",
       "      <td>2.188883</td>\n",
       "      <td>1.732068</td>\n",
       "      <td>1.048919</td>\n",
       "    </tr>\n",
       "  </tbody>\n",
       "</table>\n",
       "</div>"
      ],
      "text/plain": [
       "                   a         b         c         d\n",
       "2022-01-01  0.115821  0.900743  0.995530 -0.281706\n",
       "2022-01-02  0.579573 -0.939810 -1.079102  0.380849\n",
       "2022-01-03 -0.843424 -0.091311  1.019580  0.511926\n",
       "2022-01-04 -0.088041 -0.362877 -0.077490 -0.814624\n",
       "2022-01-05 -0.121965 -2.051599 -2.058126 -0.834124\n",
       "2022-01-06 -0.711145  0.000668  0.647405  0.531634\n",
       "2022-01-07  0.716711  1.281662 -1.089599  0.379378\n",
       "2022-01-08 -0.097655  0.652743 -0.649956  0.421805\n",
       "2022-01-09 -0.367243 -0.989377  0.332177  0.237011\n",
       "2022-01-10  0.425679  2.188883  1.732068  1.048919"
      ]
     },
     "execution_count": 15,
     "metadata": {},
     "output_type": "execute_result"
    }
   ],
   "source": [
    "df = pd.DataFrame(np.random.randn(10,4), index = pd.date_range(\"1/1/2022\",periods=10),columns=[\"a\",\"b\",\"c\",\"d\"])\n",
    "df"
   ]
  },
  {
   "cell_type": "code",
   "execution_count": 16,
   "metadata": {},
   "outputs": [
    {
     "data": {
      "text/plain": [
       "<AxesSubplot:>"
      ]
     },
     "execution_count": 16,
     "metadata": {},
     "output_type": "execute_result"
    },
    {
     "data": {
      "image/png": "[encoded data removed]",
      "text/plain": [
       "<Figure size 432x288 with 1 Axes>"
      ]
     },
     "metadata": {
      "needs_background": "light"
     },
     "output_type": "display_data"
    }
   ],
   "source": [
    "df.plot()"
   ]
  },
  {
   "cell_type": "code",
   "execution_count": 17,
   "metadata": {},
   "outputs": [
    {
     "data": {
      "text/html": [
       "<div>\n",
       "<style scoped>\n",
       "    .dataframe tbody tr th:only-of-type {\n",
       "        vertical-align: middle;\n",
       "    }\n",
       "\n",
       "    .dataframe tbody tr th {\n",
       "        vertical-align: top;\n",
       "    }\n",
       "\n",
       "    .dataframe thead th {\n",
       "        text-align: right;\n",
       "    }\n",
       "</style>\n",
       "<table border=\"1\" class=\"dataframe\">\n",
       "  <thead>\n",
       "    <tr style=\"text-align: right;\">\n",
       "      <th></th>\n",
       "      <th>A</th>\n",
       "      <th>B</th>\n",
       "      <th>C</th>\n",
       "      <th>D</th>\n",
       "    </tr>\n",
       "  </thead>\n",
       "  <tbody>\n",
       "    <tr>\n",
       "      <th>0</th>\n",
       "      <td>-0.460580</td>\n",
       "      <td>-1.331551</td>\n",
       "      <td>-0.840308</td>\n",
       "      <td>0.225077</td>\n",
       "    </tr>\n",
       "    <tr>\n",
       "      <th>1</th>\n",
       "      <td>-0.254968</td>\n",
       "      <td>0.505868</td>\n",
       "      <td>0.049860</td>\n",
       "      <td>0.559599</td>\n",
       "    </tr>\n",
       "    <tr>\n",
       "      <th>2</th>\n",
       "      <td>2.755252</td>\n",
       "      <td>-1.173739</td>\n",
       "      <td>0.997465</td>\n",
       "      <td>0.846114</td>\n",
       "    </tr>\n",
       "    <tr>\n",
       "      <th>3</th>\n",
       "      <td>1.051473</td>\n",
       "      <td>-0.853763</td>\n",
       "      <td>-1.192238</td>\n",
       "      <td>-1.258196</td>\n",
       "    </tr>\n",
       "    <tr>\n",
       "      <th>4</th>\n",
       "      <td>-0.947074</td>\n",
       "      <td>-1.098784</td>\n",
       "      <td>0.032576</td>\n",
       "      <td>-1.838654</td>\n",
       "    </tr>\n",
       "    <tr>\n",
       "      <th>5</th>\n",
       "      <td>0.120315</td>\n",
       "      <td>0.366011</td>\n",
       "      <td>0.536277</td>\n",
       "      <td>0.222289</td>\n",
       "    </tr>\n",
       "    <tr>\n",
       "      <th>6</th>\n",
       "      <td>0.814181</td>\n",
       "      <td>0.913567</td>\n",
       "      <td>-0.110917</td>\n",
       "      <td>-0.226167</td>\n",
       "    </tr>\n",
       "    <tr>\n",
       "      <th>7</th>\n",
       "      <td>-2.210615</td>\n",
       "      <td>1.605803</td>\n",
       "      <td>0.893264</td>\n",
       "      <td>0.318958</td>\n",
       "    </tr>\n",
       "    <tr>\n",
       "      <th>8</th>\n",
       "      <td>0.960068</td>\n",
       "      <td>-0.330503</td>\n",
       "      <td>-0.118727</td>\n",
       "      <td>1.775095</td>\n",
       "    </tr>\n",
       "    <tr>\n",
       "      <th>9</th>\n",
       "      <td>-0.436924</td>\n",
       "      <td>0.086185</td>\n",
       "      <td>-0.312497</td>\n",
       "      <td>0.076980</td>\n",
       "    </tr>\n",
       "  </tbody>\n",
       "</table>\n",
       "</div>"
      ],
      "text/plain": [
       "          A         B         C         D\n",
       "0 -0.460580 -1.331551 -0.840308  0.225077\n",
       "1 -0.254968  0.505868  0.049860  0.559599\n",
       "2  2.755252 -1.173739  0.997465  0.846114\n",
       "3  1.051473 -0.853763 -1.192238 -1.258196\n",
       "4 -0.947074 -1.098784  0.032576 -1.838654\n",
       "5  0.120315  0.366011  0.536277  0.222289\n",
       "6  0.814181  0.913567 -0.110917 -0.226167\n",
       "7 -2.210615  1.605803  0.893264  0.318958\n",
       "8  0.960068 -0.330503 -0.118727  1.775095\n",
       "9 -0.436924  0.086185 -0.312497  0.076980"
      ]
     },
     "execution_count": 17,
     "metadata": {},
     "output_type": "execute_result"
    }
   ],
   "source": [
    "df1 = pd.DataFrame(np.random.randn(10,4),columns=[\"A\",\"B\",\"C\",\"D\"])\n",
    "df1"
   ]
  },
  {
   "cell_type": "code",
   "execution_count": 18,
   "metadata": {},
   "outputs": [
    {
     "data": {
      "text/plain": [
       "0   -0.460580\n",
       "1   -0.254968\n",
       "2    2.755252\n",
       "3    1.051473\n",
       "4   -0.947074\n",
       "5    0.120315\n",
       "6    0.814181\n",
       "7   -2.210615\n",
       "8    0.960068\n",
       "9   -0.436924\n",
       "Name: A, dtype: float64"
      ]
     },
     "execution_count": 18,
     "metadata": {},
     "output_type": "execute_result"
    }
   ],
   "source": [
    "df1[\"A\"]\n"
   ]
  },
  {
   "cell_type": "code",
   "execution_count": 19,
   "metadata": {},
   "outputs": [
    {
     "data": {
      "text/plain": [
       "<BarContainer object of 10 artists>"
      ]
     },
     "execution_count": 19,
     "metadata": {},
     "output_type": "execute_result"
    },
    {
     "data": {
      "image/png": "[encoded data removed]",
      "text/plain": [
       "<Figure size 432x288 with 1 Axes>"
      ]
     },
     "metadata": {
      "needs_background": "light"
     },
     "output_type": "display_data"
    }
   ],
   "source": [
    "plt.bar(df1[\"A\"],df1[\"B\"])"
   ]
  },
  {
   "cell_type": "code",
   "execution_count": 20,
   "metadata": {},
   "outputs": [
    {
     "data": {
      "text/plain": [
       "<AxesSubplot:ylabel='Frequency'>"
      ]
     },
     "execution_count": 20,
     "metadata": {},
     "output_type": "execute_result"
    },
    {
     "data": {
      "image/png": "[encoded data removed]",
      "text/plain": [
       "<Figure size 432x288 with 1 Axes>"
      ]
     },
     "metadata": {
      "needs_background": "light"
     },
     "output_type": "display_data"
    }
   ],
   "source": [
    "df1.plot.hist()"
   ]
  },
  {
   "cell_type": "code",
   "execution_count": 21,
   "metadata": {
    "scrolled": true
   },
   "outputs": [
    {
     "data": {
      "image/png": "[encoded data removed]",
      "text/plain": [
       "<Figure size 1440x1296 with 1 Axes>"
      ]
     },
     "metadata": {
      "needs_background": "light"
     },
     "output_type": "display_data"
    }
   ],
   "source": [
    "fig= plt.figure(figsize=(20,18))\n",
    "a=[\"c\",\"c++\",\"Python\"]\n",
    "b=[50,60,100]\n",
    "plt.xlabel(\"Languages\",fontsize=18)\n",
    "plt.ylabel(\"marks\",fontsize=18)\n",
    "plt.title(\"Data language \",fontsize=18)\n",
    "plt.bar(a,b)\n",
    "\n",
    "plt.show()"
   ]
  },
  {
   "cell_type": "code",
   "execution_count": 22,
   "metadata": {},
   "outputs": [],
   "source": [
    "a=[1,2,3,4,5,6]"
   ]
  },
  {
   "cell_type": "code",
   "execution_count": 23,
   "metadata": {},
   "outputs": [
    {
     "data": {
      "text/plain": [
       "([<matplotlib.patches.Wedge at 0x1d1c25e39d0>,\n",
       "  <matplotlib.patches.Wedge at 0x1d1c25e3f70>,\n",
       "  <matplotlib.patches.Wedge at 0x1d1c25f2640>,\n",
       "  <matplotlib.patches.Wedge at 0x1d1c25f2cd0>,\n",
       "  <matplotlib.patches.Wedge at 0x1d1c25ff3a0>,\n",
       "  <matplotlib.patches.Wedge at 0x1d1c25ffa30>],\n",
       " [Text(1.087713908390803, 0.16394649582471824, ''),\n",
       "  Text(0.9088626448409262, 0.6196520740002058, ''),\n",
       "  Text(0.2447729879062314, 1.0724207124032321, ''),\n",
       "  Text(-0.8063571098828889, 0.7481899567231004, ''),\n",
       "  Text(-0.9088626013289132, -0.6196521378206009, ''),\n",
       "  Text(0.6858388884465332, -0.8600145458621175, '')],\n",
       " [Text(0.5932984954858924, 0.08942536135893721, '4.8%'),\n",
       "  Text(0.4957432608223233, 0.33799204036374864, '9.5%'),\n",
       "  Text(0.13351253885794437, 0.5849567522199447, '14.3%'),\n",
       "  Text(-0.4398311508452121, 0.40810361275805473, '19.0%'),\n",
       "  Text(-0.49574323708849805, -0.33799207517487323, '23.8%'),\n",
       "  Text(0.37409393915265443, -0.46909884319751854, '28.6%')])"
      ]
     },
     "execution_count": 23,
     "metadata": {},
     "output_type": "execute_result"
    },
    {
     "data": {
      "image/png": "[encoded data removed]",
      "text/plain": [
       "<Figure size 432x288 with 1 Axes>"
      ]
     },
     "metadata": {},
     "output_type": "display_data"
    }
   ],
   "source": [
    "plt.pie(a,shadow=False,autopct='%1.1f%%')"
   ]
  },
  {
   "cell_type": "code",
   "execution_count": null,
   "metadata": {},
   "outputs": [],
   "source": []
  },
  {
   "cell_type": "markdown",
   "metadata": {},
   "source": [
    "## 5. Python program for Extract mobile no from PDF, XML and MS word file and save into MS excel"
   ]
  },
  {
   "cell_type": "code",
   "execution_count": 24,
   "metadata": {},
   "outputs": [
    {
     "name": "stdout",
     "output_type": "stream",
     "text": [
      "Requirement already satisfied: PyPDF2 in c:\\users\\sreem\\anaconda3\\lib\\site-packages (2.10.7)\n",
      "Requirement already satisfied: typing-extensions>=3.10.0.0; python_version < \"3.10\" in c:\\users\\sreem\\anaconda3\\lib\\site-packages (from PyPDF2) (4.3.0)\n",
      "Note: you may need to restart the kernel to use updated packages.\n"
     ]
    }
   ],
   "source": [
    "pip install PyPDF2"
   ]
  },
  {
   "cell_type": "code",
   "execution_count": 25,
   "metadata": {},
   "outputs": [
    {
     "name": "stdout",
     "output_type": "stream",
     "text": [
      "c56t7-44u4s\n",
      "Page 1sender/ttypetime\n",
      "smsg2022-06-29T01:26:09.800Z\n",
      "vmsg2022-06-29T01:27:09.693Zc56t7-44u4s\n",
      "Page 2msg\n",
      "Welcome to Yoshops.com, If you need help simply reply to this message with your Name and your  Mobile number. We like to contact you to help.\n",
      "Or Whatsapp =+91-9080749858\n",
      "Name : Reena\n",
      "Phone : 9528692288\n"
     ]
    }
   ],
   "source": [
    "import PyPDF2 \n",
    "import re    \n",
    "# creating a pdf file object \n",
    "pdfFileObj = open('1.pdf','rb')\n",
    "    \n",
    "# creating a pdf reader object \n",
    "pdfReader = PyPDF2.PdfFileReader(pdfFileObj)\n",
    "pdfText = ''\n",
    "for i in range(pdfReader.numPages):\n",
    "    pageObj = pdfReader.getPage(i) \n",
    "    pdfText += pageObj.extractText() \n",
    "print(pdfText)\n",
    "pattern = re.compile(r'\\b[789]\\d{9}\\b')\n",
    "matches = pattern.finditer(pdfText)\n",
    "phone = []\n",
    "for x in matches:\n",
    "    phone.append(x.group(0))\n",
    "import xlwt\n",
    "from xlwt import Workbook\n",
    "wb1 = Workbook()\n",
    "sheet1 = wb1.add_sheet('Sheet 1')\n",
    "for i in range(len(phone)):\n",
    "    sheet1.write(i, 0, phone[i])\n",
    "wb1.save('mobile.xls')"
   ]
  },
  {
   "cell_type": "code",
   "execution_count": 26,
   "metadata": {},
   "outputs": [
    {
     "name": "stdout",
     "output_type": "stream",
     "text": [
      "Requirement already satisfied: docx2txt in c:\\users\\sreem\\anaconda3\\lib\\site-packages (0.8)\n",
      "Note: you may need to restart the kernel to use updated packages.\n"
     ]
    }
   ],
   "source": [
    "pip install docx2txt"
   ]
  },
  {
   "cell_type": "code",
   "execution_count": 27,
   "metadata": {},
   "outputs": [],
   "source": [
    "import docx2txt"
   ]
  },
  {
   "cell_type": "code",
   "execution_count": 28,
   "metadata": {},
   "outputs": [
    {
     "name": "stdout",
     "output_type": "stream",
     "text": [
      "['9080749858', '9123557647']\n"
     ]
    }
   ],
   "source": [
    "myText = docx2txt.process(\"word.docx\")\n",
    "pattern = re.compile(r'\\b[789]\\d{9}\\b')\n",
    "matches = pattern.finditer(myText)\n",
    "phone = []\n",
    "for x in matches:\n",
    "    phone.append(x.group(0))\n",
    "print(phone)\n",
    "import xlwt\n",
    "from xlwt import Workbook\n",
    "wb = Workbook()\n",
    "sheet1 = wb.add_sheet('Sheet 1')\n",
    "for i in range(len(phone)):\n",
    "    sheet1.write(i, 0, phone[i])\n",
    "wb.save('mobile.xls')"
   ]
  },
  {
   "cell_type": "code",
   "execution_count": 29,
   "metadata": {},
   "outputs": [
    {
     "name": "stdout",
     "output_type": "stream",
     "text": [
      "Note: you may need to restart the kernel to use updated packages.\n"
     ]
    },
    {
     "name": "stderr",
     "output_type": "stream",
     "text": [
      "ERROR: Could not find a version that satisfies the requirement xml.etree.cElementTree (from versions: none)\n",
      "ERROR: No matching distribution found for xml.etree.cElementTree\n"
     ]
    }
   ],
   "source": [
    "pip install xml.etree.cElementTree"
   ]
  },
  {
   "cell_type": "code",
   "execution_count": 30,
   "metadata": {},
   "outputs": [
    {
     "name": "stdout",
     "output_type": "stream",
     "text": [
      "00140999999true$(inst)/share/palette%3B$(user)/config/standard.sob0$(inst)/share/palette%3B$(user)/config/standard.soc$(inst)/share/palette%3B$(user)/config/standard.sod1270false$(inst)/share/palette%3B$(user)/config/standard.sog$(inst)/share/palette%3B$(user)/config/standard.sohfalsefalsetruetruefalsefalsetruefalsefalsefalse$(inst)/share/palette%3B$(user)/config/standard.soefalse74false0low-resolutionfalse11true\n",
      "    \n",
      "    \n",
      "    \n",
      "    \n",
      "    \n",
      "    \n",
      "    \n",
      "    \n",
      "    \n",
      "    \n",
      "    \n",
      "    \n",
      "    \n",
      "[]\n"
     ]
    }
   ],
   "source": [
    "import xml.etree.cElementTree as ET\n",
    "tree = ET.ElementTree(file = 'xml.xml')\n",
    "root = tree.getroot()\n",
    "xmlText = ''\n",
    "for page in root:\n",
    "    for x in page:\n",
    "        for y in x:\n",
    "            if y.text != None:\n",
    "                xmlText+=y.text\n",
    "print(xmlText)\n",
    "pattern = re.compile(r'\\b[789]\\d{9}\\b')\n",
    "matches = pattern.finditer(xmlText)\n",
    "phone = []\n",
    "for x in matches:\n",
    "    phone.append(x.group(0))\n",
    "print(phone)\n",
    "import xlwt\n",
    "from xlwt import Workbook\n",
    "wb1 = Workbook()\n",
    "sheet1 = wb1.add_sheet('Sheet 1')\n",
    "for i in range(len(phone)):\n",
    "    sheet1.write(i, 0, phone[i])\n",
    "wb1.save('mobile.xls')"
   ]
  },
  {
   "cell_type": "code",
   "execution_count": null,
   "metadata": {},
   "outputs": [],
   "source": []
  },
  {
   "cell_type": "code",
   "execution_count": null,
   "metadata": {},
   "outputs": [],
   "source": []
  },
  {
   "cell_type": "code",
   "execution_count": null,
   "metadata": {},
   "outputs": [],
   "source": []
  }
 ],
 "metadata": {
  "kernelspec": {
   "display_name": "Python 3",
   "language": "python",
   "name": "python3"
  },
  "language_info": {
   "codemirror_mode": {
    "name": "ipython",
    "version": 3
   },
   "file_extension": ".py",
   "mimetype": "text/x-python",
   "name": "python",
   "nbconvert_exporter": "python",
   "pygments_lexer": "ipython3",
   "version": "3.8.5"
  }
 },
 "nbformat": 4,
 "nbformat_minor": 4
}
